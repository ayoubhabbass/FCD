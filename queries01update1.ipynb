{
 "cells": [
  {
   "cell_type": "markdown",
   "metadata": {},
   "source": [
    "# Connection à la base de données 'fcd'"
   ]
  },
  {
   "cell_type": "code",
   "execution_count": 4,
   "metadata": {},
   "outputs": [
    {
     "name": "stdout",
     "output_type": "stream",
     "text": [
      "done\n"
     ]
    }
   ],
   "source": [
    "import pandas as pd\n",
    "import pymongo\n",
    "\n",
    "client = pymongo.MongoClient('localhost')\n",
    "collection = client.fcd.assets\n",
    "\n",
    "print('done')"
   ]
  },
  {
   "cell_type": "markdown",
   "metadata": {},
   "source": [
    "# Lecture dans la base"
   ]
  },
  {
   "cell_type": "code",
   "execution_count": 5,
   "metadata": {},
   "outputs": [
    {
     "name": "stdout",
     "output_type": "stream",
     "text": [
      "\n",
      "done\n"
     ]
    }
   ],
   "source": [
    "cursor = collection.find({},{'asset_id':1})\n",
    "entries = list(cursor)\n",
    "\n",
    "entries[:]\n",
    "df = pd.DataFrame(entries)\n",
    "df.head()\n",
    "print('\\ndone')"
   ]
  },
  {
   "cell_type": "markdown",
   "metadata": {},
   "source": [
    "# Entrée 1 : géo"
   ]
  },
  {
   "cell_type": "code",
   "execution_count": 6,
   "metadata": {},
   "outputs": [
    {
     "name": "stdout",
     "output_type": "stream",
     "text": [
      "rayon (km) -> 10\n",
      "\n",
      "done\n"
     ]
    }
   ],
   "source": [
    "#lon = float(input(\"longitude -> \"))\n",
    "#lat = float(input(\"latitude -> \"))\n",
    "rad = float(input(\"rayon (km) -> \"))\n",
    "\n",
    "print('\\ndone')"
   ]
  },
  {
   "cell_type": "markdown",
   "metadata": {},
   "source": [
    "# Entrée 2 : date"
   ]
  },
  {
   "cell_type": "code",
   "execution_count": 7,
   "metadata": {},
   "outputs": [
    {
     "name": "stdout",
     "output_type": "stream",
     "text": [
      "Annee -> 2020\n",
      "Mois -> 3\n",
      "Jour -> 5\n",
      "Heure -> 14\n",
      "Minutes -> 30\n",
      "Secondes -> 5\n",
      "\n",
      "done\n"
     ]
    }
   ],
   "source": [
    "from datetime import timedelta\n",
    "from datetime import datetime\n",
    "\n",
    "year = int(input(\"Annee -> \"))\n",
    "month = int(input(\"Mois -> \"))\n",
    "day = int(input(\"Jour -> \"))\n",
    "hour = int(input(\"Heure -> \"))\n",
    "minutes = int(input(\"Minutes -> \"))\n",
    "seconds = int(input(\"Secondes -> \"))\n",
    "date = datetime(year, month, day, hour, minutes, seconds)\n",
    "\n",
    "print('\\ndone')"
   ]
  },
  {
   "cell_type": "markdown",
   "metadata": {},
   "source": [
    "# Entrée 3 : période"
   ]
  },
  {
   "cell_type": "code",
   "execution_count": 8,
   "metadata": {},
   "outputs": [
    {
     "name": "stdout",
     "output_type": "stream",
     "text": [
      "Période (minutes) -> 60\n",
      "\n",
      "done\n"
     ]
    }
   ],
   "source": [
    "T = int(input(\"Période (minutes) -> \"))\n",
    "delta = timedelta(minutes = float(T/2))\n",
    "\n",
    "datemin = date - delta\n",
    "datemax = date + delta\n",
    "\n",
    "datemin = datetime.timestamp(datemin)\n",
    "datemax = datetime.timestamp(datemax)\n",
    "\n",
    "print('\\ndone')"
   ]
  },
  {
   "cell_type": "markdown",
   "metadata": {},
   "source": [
    "# QUERY 1 "
   ]
  },
  {
   "cell_type": "code",
   "execution_count": 9,
   "metadata": {},
   "outputs": [
    {
     "name": "stdout",
     "output_type": "stream",
     "text": [
      "density : 27\n",
      "done\n"
     ]
    }
   ],
   "source": [
    "import pprint\n",
    "\n",
    "\n",
    "# QUERY 1\n",
    "# Calculer la densité [nombre de points] sur une Zone géographique Z et une période T \n",
    "\n",
    "def density_list(lon, lat, rad, datemin, datemax, option,zone,periode):\n",
    "    query01={}\n",
    "    query02={}\n",
    "    dico={}\n",
    "    center=[-1,-1]\n",
    "    # points dans une zone Z\n",
    "    if zone:\n",
    "        center=[lon,lat]\n",
    "        query01 = {\n",
    "            \"location.geo\": {\n",
    "                \"$nearSphere\": {\n",
    "                    \"$geometry\": {\n",
    "                        \"type\": \"Point\",\n",
    "                        \"coordinates\": [ lon, lat]\n",
    "                    },\n",
    "                    \"$minDistance\": 0,\n",
    "                    \"$maxDistance\": rad*1000 # mètres\n",
    "                }\n",
    "            }\n",
    "        }\n",
    "\n",
    "    # points à une période T\n",
    "    if periode :\n",
    "        query02 = {'$and': [{'recorded_at': {\"$gt\": datemin}}, {'recorded_at': {\"$lt\": datemax}}]}\n",
    "\n",
    "\n",
    "    # requête finale\n",
    "    query = {'$and': [query01, query02]}\n",
    "\n",
    "    if option != {} :\n",
    "        query = {'$and': [query, option]}\n",
    "        \n",
    "    liste=list(collection.find(query))\n",
    "    dico['liste_points']=liste\n",
    "    dico['density']=len(liste)\n",
    "    dico['center']=center\n",
    "    return dico\n",
    "\n",
    "\n",
    "result = density_list(-113.584, 53.5124, rad, datemin, datemax, {},True,True)\n",
    "print (\"density :\", result['density'])\n",
    "\n",
    "print('done')"
   ]
  },
  {
   "cell_type": "markdown",
   "metadata": {},
   "source": [
    "# QUERY 2"
   ]
  },
  {
   "cell_type": "code",
   "execution_count": 15,
   "metadata": {},
   "outputs": [
    {
     "name": "stdout",
     "output_type": "stream",
     "text": [
      "density : 267\n",
      "circle zone of 10.0 km around [-113.493, 53.4275]\n",
      "\n",
      "done\n"
     ]
    }
   ],
   "source": [
    "import pprint\n",
    "\n",
    "# QUERY 2\n",
    "# Retourner le nombre de points voisins d'un asset X dans une période T.\n",
    "\n",
    "\n",
    "def asset_density(id_asset, rad, datemin, datemax):\n",
    "\n",
    "    # les points d'un asset X\n",
    "    query01 = {\"asset_id\": id_asset}\n",
    "\n",
    "    # points à une période T\n",
    "    query02 = {'$and': [{'recorded_at': {\"$gt\": datemin}}, {'recorded_at': {\"$lt\": datemax}}]}\n",
    "\n",
    "    # les points d'un asset X à une période T\n",
    "    query03 = {'$and': [query01, query02]}\n",
    "\n",
    "    tmp = list(collection.find(query03))\n",
    "\n",
    "    lon = 0\n",
    "    lat = 0\n",
    "    density = 0\n",
    "    result = {}\n",
    "    res = None\n",
    "\n",
    "    for doc in tmp:\n",
    "        lon = doc['location']['geo']['coordinates'][0]\n",
    "        lat = doc['location']['geo']['coordinates'][1]\n",
    "        d_list = density_list(lon, lat, rad, datemin, datemax, {\"asset_id\": {\"$ne\": id_asset}})\n",
    "\n",
    "        if len(d_list) > density:\n",
    "            density = len(d_list)\n",
    "            res = doc\n",
    "\n",
    "    if len(tmp) > 0 and density > 0:\n",
    "        result['asset_id'] = id_asset\n",
    "        result['density'] = density\n",
    "        result['radius'] = rad\n",
    "        result['center'] = res['location']['geo']['coordinates']\n",
    "\n",
    "    return result\n",
    "    \n",
    "    \n",
    "result = asset_density('14429000019112', rad, datemin, datemax)\n",
    "\n",
    "if result != {}:\n",
    "    print('density :', result['density'])\n",
    "    print('circle zone of',result['radius'],'km around', result['center'])\n",
    "\n",
    "print('\\ndone')"
   ]
  },
  {
   "cell_type": "markdown",
   "metadata": {},
   "source": [
    "# QUERY 3"
   ]
  },
  {
   "cell_type": "code",
   "execution_count": 17,
   "metadata": {},
   "outputs": [
    {
     "name": "stdout",
     "output_type": "stream",
     "text": [
      "[{'asset_id': '14429000008909',\n",
      "  'center': [-114.034, 50.9482],\n",
      "  'density': 434,\n",
      "  'radius': 10.0},\n",
      " {'asset_id': '14429000032073',\n",
      "  'center': [-113.971, 50.9409],\n",
      "  'density': 432,\n",
      "  'radius': 10.0},\n",
      " {'asset_id': '14429000034814',\n",
      "  'center': [-114.036, 50.8789],\n",
      "  'density': 379,\n",
      "  'radius': 10.0}]\n",
      "\n",
      "done\n"
     ]
    }
   ],
   "source": [
    "# QUERY 3\n",
    "# Retournez le top k des périodes/ zones les plus denses\n",
    "\n",
    "\n",
    "def top_k_zones(k, rad, datemin, datemax):\n",
    "    \n",
    "    # list des id des différents asset\n",
    "    ids_asset = list(collection.distinct(\"asset_id\"))\n",
    "\n",
    "    zones = []\n",
    "\n",
    "    for id_ in ids_asset:\n",
    "\n",
    "        zone = asset_density(id_, rad, datemin, datemax)\n",
    "\n",
    "        if zone != {}:\n",
    "            zones.append(zone)\n",
    "\n",
    "\n",
    "    zones = sorted(zones, key=lambda zone:zone['density'], reverse=True)\n",
    "    \n",
    "    if k > len(zones):\n",
    "        k = len(zones)\n",
    "        \n",
    "    return zones[0:k]\n",
    "\n",
    "zones = top_k_zones(3, rad, datemin, datemax)\n",
    "pprint.pprint(zones)\n",
    "print('\\ndone')"
   ]
  },
  {
   "cell_type": "markdown",
   "metadata": {},
   "source": [
    "# Query4"
   ]
  },
  {
   "cell_type": "code",
   "execution_count": null,
   "metadata": {},
   "outputs": [],
   "source": [
    "def top_k_asset(id_asset,k,rad,datemin,datemax,zone,periode):\n",
    "    query01 = {\"asset_id\": id_asset}\n",
    "    tmp = list(collection.find(query01))\n",
    "    lon = 0\n",
    "    lat = 0\n",
    "    d_list=[]\n",
    "    for doc in tmp:\n",
    "        lon = doc['location']['geo']['coordinates'][0]\n",
    "        lat = doc['location']['geo']['coordinates'][1]\n",
    "        d_list.append(density_list(lon, lat, rad, datemin, datemax,{},zone,periode))\n",
    "    zones = sorted(d_list, key=lambda zone:zone['density'], reverse=True)\n",
    "    if k > len(zones):\n",
    "        k = len(zones)\n",
    "        \n",
    "    return zones[0:k]\n",
    "def top_k_zones_Periode(k, rad, datemin, datemax,zone,periode):\n",
    "    \n",
    "    # list des id des différents asset\n",
    "    ids_asset = list(collection.distinct(\"asset_id\"))\n",
    "    d_list=[]\n",
    "    tmp=None\n",
    "    zones = []\n",
    "    tmp=top_k_asset(ids_asset[0],k,rad,datemin,datemax,zone,periode)\n",
    "    for elt in tmp :\n",
    "        d_list.append(elt)\n",
    "    zones = sorted(d_list, key=lambda zone:zone['density'], reverse=True)\n",
    "    \n",
    "    if k > len(zones):\n",
    "        k = len(zones)\n",
    "        \n",
    "    return zones[0:k]\n",
    "\n",
    "zones = top_k_zones_Periode(3, rad, datemin, datemax,True,False)\n",
    "pprint.pprint(zones)\n",
    "print('\\ndone')"
   ]
  },
  {
   "cell_type": "markdown",
   "metadata": {},
   "source": [
    "# Query 5"
   ]
  },
  {
   "cell_type": "code",
   "execution_count": 10,
   "metadata": {},
   "outputs": [
    {
     "ename": "NameError",
     "evalue": "name 'top_k_zones_Periode' is not defined",
     "output_type": "error",
     "traceback": [
      "\u001b[1;31m---------------------------------------------------------------------------\u001b[0m",
      "\u001b[1;31mNameError\u001b[0m                                 Traceback (most recent call last)",
      "\u001b[1;32m<ipython-input-10-c0137f7cf876>\u001b[0m in \u001b[0;36m<module>\u001b[1;34m\u001b[0m\n\u001b[0;32m      1\u001b[0m \u001b[0mclient\u001b[0m \u001b[1;33m=\u001b[0m \u001b[0mpymongo\u001b[0m\u001b[1;33m.\u001b[0m\u001b[0mMongoClient\u001b[0m\u001b[1;33m(\u001b[0m\u001b[1;34m'localhost'\u001b[0m\u001b[1;33m)\u001b[0m\u001b[1;33m\u001b[0m\u001b[1;33m\u001b[0m\u001b[0m\n\u001b[0;32m      2\u001b[0m \u001b[0mcollection\u001b[0m \u001b[1;33m=\u001b[0m \u001b[0mclient\u001b[0m\u001b[1;33m.\u001b[0m\u001b[0mfcd\u001b[0m\u001b[1;33m.\u001b[0m\u001b[0mtrips\u001b[0m\u001b[1;33m\u001b[0m\u001b[1;33m\u001b[0m\u001b[0m\n\u001b[1;32m----> 3\u001b[1;33m \u001b[0mzones\u001b[0m \u001b[1;33m=\u001b[0m \u001b[0mtop_k_zones_Periode\u001b[0m\u001b[1;33m(\u001b[0m\u001b[1;36m3\u001b[0m\u001b[1;33m,\u001b[0m \u001b[0mrad\u001b[0m\u001b[1;33m,\u001b[0m \u001b[0mdatemin\u001b[0m\u001b[1;33m,\u001b[0m \u001b[0mdatemax\u001b[0m\u001b[1;33m,\u001b[0m\u001b[1;32mFalse\u001b[0m\u001b[1;33m,\u001b[0m\u001b[1;32mTrue\u001b[0m\u001b[1;33m)\u001b[0m\u001b[1;33m\u001b[0m\u001b[1;33m\u001b[0m\u001b[0m\n\u001b[0m\u001b[0;32m      4\u001b[0m \u001b[0mpprint\u001b[0m\u001b[1;33m.\u001b[0m\u001b[0mpprint\u001b[0m\u001b[1;33m(\u001b[0m\u001b[0mzones\u001b[0m\u001b[1;33m)\u001b[0m\u001b[1;33m\u001b[0m\u001b[1;33m\u001b[0m\u001b[0m\n\u001b[0;32m      5\u001b[0m \u001b[0mprint\u001b[0m\u001b[1;33m(\u001b[0m\u001b[1;34m'\\ndone'\u001b[0m\u001b[1;33m)\u001b[0m\u001b[1;33m\u001b[0m\u001b[1;33m\u001b[0m\u001b[0m\n",
      "\u001b[1;31mNameError\u001b[0m: name 'top_k_zones_Periode' is not defined"
     ]
    }
   ],
   "source": [
    "client = pymongo.MongoClient('localhost')\n",
    "collection = client.fcd.trips\n",
    "zones = top_k_zones_Periode(3, rad, datemin, datemax,False,True)\n",
    "pprint.pprint(zones)\n",
    "print('\\ndone')"
   ]
  },
  {
   "cell_type": "code",
   "execution_count": null,
   "metadata": {},
   "outputs": [],
   "source": []
  }
 ],
 "metadata": {
  "kernelspec": {
   "display_name": "Python 3",
   "language": "python",
   "name": "python3"
  },
  "language_info": {
   "codemirror_mode": {
    "name": "ipython",
    "version": 3
   },
   "file_extension": ".py",
   "mimetype": "text/x-python",
   "name": "python",
   "nbconvert_exporter": "python",
   "pygments_lexer": "ipython3",
   "version": "3.7.6"
  }
 },
 "nbformat": 4,
 "nbformat_minor": 4
}
