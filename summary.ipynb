{
 "cells": [
  {
   "cell_type": "markdown",
   "metadata": {},
   "source": [
    "# Créer une collection pour les résumés"
   ]
  },
  {
   "cell_type": "code",
   "execution_count": null,
   "metadata": {},
   "outputs": [],
   "source": [
    "import pymongo\n",
    "\n",
    "client = pymongo.MongoClient('localhost',27017)\n",
    "mydb = client[\"fcd\"]\n",
    "collection_resume = mydb[\"resume\"]\n",
    "data=[]\n",
    "\n",
    "resume = {} \n",
    "resume['name_resume'] = \"Requete1\"\n",
    "resume['density'] = None\n",
    "resume['neighbours_id'] = None\n",
    "resume['period'] = None\n",
    "z = {}\n",
    "z['center'] = None\n",
    "z['radius'] = None\n",
    "resume['zone'] = z\n",
    "resume['settings'] = None\n",
    "data.append(resume)\n",
    "print('insert')\n",
    "collection_resume.insert_many(data)\n",
    "print('done')"
   ]
  }
 ],
 "metadata": {
  "kernelspec": {
   "display_name": "Python 3",
   "language": "python",
   "name": "python3"
  },
  "language_info": {
   "codemirror_mode": {
    "name": "ipython",
    "version": 3
   },
   "file_extension": ".py",
   "mimetype": "text/x-python",
   "name": "python",
   "nbconvert_exporter": "python",
   "pygments_lexer": "ipython3",
   "version": "3.7.6"
  }
 },
 "nbformat": 4,
 "nbformat_minor": 4
}
