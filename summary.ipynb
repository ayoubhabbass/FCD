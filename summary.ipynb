{
 "cells": [
  {
   "cell_type": "markdown",
   "metadata": {},
   "source": [
    "# Connection à la base de données 'fcd'"
   ]
  },
  {
   "cell_type": "code",
   "execution_count": 8,
   "metadata": {},
   "outputs": [
    {
     "name": "stdout",
     "output_type": "stream",
     "text": [
      "done\n"
     ]
    }
   ],
   "source": [
    "import pandas as pd\n",
    "import pymongo\n",
    "import datetime\n",
    "from datetime import timedelta\n",
    "import math\n",
    "import pprint\n",
    "\n",
    "client = pymongo.MongoClient('localhost')\n",
    "collection = client.fcd.assets\n",
    "\n",
    "print('done')"
   ]
  },
  {
   "cell_type": "markdown",
   "metadata": {},
   "source": [
    "# QUERY 1 "
   ]
  },
  {
   "cell_type": "code",
   "execution_count": 9,
   "metadata": {},
   "outputs": [],
   "source": [
    "import pprint\n",
    "\n",
    "\n",
    "# QUERY 1\n",
    "# Calculer la densité [nombre de points] sur une Zone géographique Z et une période T \n",
    "\n",
    "def density_list(lon, lat, rad, datemin, datemax, option, zone, periode):\n",
    "\n",
    "    dico={}\n",
    "    query01={}\n",
    "    query02={}\n",
    "    center=[-1,-1]\n",
    "    \n",
    "    # points dans une zone Z\n",
    "    if zone:\n",
    "        \n",
    "        center=[lon,lat]\n",
    "        \n",
    "        query01 = {\n",
    "            \"location.geo\": {\n",
    "                \"$nearSphere\": {\n",
    "                    \"$geometry\": {\n",
    "                        \"type\": \"Point\",\n",
    "                        \"coordinates\": [ lon, lat]\n",
    "                    },\n",
    "                    \"$minDistance\": 0,\n",
    "                    \"$maxDistance\": rad*1000 # mètres\n",
    "                }\n",
    "            }\n",
    "        }\n",
    "\n",
    "    # points à une période T\n",
    "    if periode :\n",
    "        query02 = {'$and': [{'recorded_at': {\"$gt\": datemin}}, {'recorded_at': {\"$lt\": datemax}}]}\n",
    "\n",
    "\n",
    "    # requête finale\n",
    "    query = {'$and': [query01, query02]}\n",
    "\n",
    "    if option != {} :\n",
    "        query = {'$and': [query, option]}\n",
    "        \n",
    "    liste=list(collection.find(query).distinct(\"asset_id\"))\n",
    "    dico['neighbors_id']=liste\n",
    "    dico['period']=[datemin, datemax]\n",
    "    z = {}\n",
    "    z['center'] = center\n",
    "    z['radius'] = rad\n",
    "    dico['zone'] = z\n",
    "    \n",
    "    return dico\n"
   ]
  },
  {
   "cell_type": "markdown",
   "metadata": {},
   "source": [
    "# QUERY 2"
   ]
  },
  {
   "cell_type": "code",
   "execution_count": 17,
   "metadata": {},
   "outputs": [],
   "source": [
    "import pprint\n",
    "\n",
    "# QUERY 2\n",
    "# Retourner le nombre de points voisins d'un asset X dans une période T.\n",
    "\n",
    "def time_gap(current, new):\n",
    "\n",
    "    td = abs(current - new)\n",
    "    res = td/60 # in minutes\n",
    "    return res\n",
    "\n",
    "\n",
    "def asset_density(id_asset, rad, datemin, datemax):\n",
    "\n",
    "    # les points d'un asset X\n",
    "    query01 = {\"asset_id\": id_asset}\n",
    "\n",
    "    # points à une période T\n",
    "    query02 = {'$and': [{'recorded_at': {\"$gt\": datemin}}, {'recorded_at': {\"$lt\": datemax}}]}\n",
    "\n",
    "    # les points d'un asset X à une période T\n",
    "    query03 = {'$and': [query01, query02]}\n",
    "\n",
    "    tmp = list(collection.find(query03))\n",
    "    \n",
    "    res = {}\n",
    "    liste = []\n",
    "    \n",
    "    if len(tmp) > 0:\n",
    "        \n",
    "        # tri chronologique\n",
    "        tmp = sorted(tmp, key=lambda point:point['recorded_at'])\n",
    "\n",
    "        # selection des coords du point au 'central'  \n",
    "        lon = tmp[int(len(tmp)-1/2)]['location']['geo']['coordinates'][0]\n",
    "        lat = tmp[int(len(tmp)-1/2)]['location']['geo']['coordinates'][1]         \n",
    "\n",
    "        d_list = density_list(lon, lat, rad, datemin, datemax,\n",
    "                              {\"asset_id\": {\"$ne\": id_asset}}, True, True)\n",
    "        liste = d_list['neighbors_id']\n",
    "    \n",
    "    res['asset_id'] = id_asset\n",
    "    res['neighbors_id'] = liste\n",
    "    res['radius'] = rad\n",
    "    res['period'] = [datemin, datemax]\n",
    "\n",
    "    return res\n"
   ]
  },
  {
   "cell_type": "markdown",
   "metadata": {},
   "source": [
    "# QUERY 3"
   ]
  },
  {
   "cell_type": "code",
   "execution_count": 5,
   "metadata": {},
   "outputs": [],
   "source": [
    "# QUERY 3\n",
    "# Sur la base de tous les assets, retourner le Top – k [e.g. top 10] des zones les plus denses\n",
    "\n",
    "\n",
    "def top_k_assets(rad, datemin, datemax):\n",
    "    \n",
    "    # list des id des différents asset\n",
    "    ids_asset = list(collection.distinct(\"asset_id\"))\n",
    "\n",
    "    zones = []\n",
    "\n",
    "    for id_ in ids_asset:\n",
    "\n",
    "        zone = asset_density(id_, rad, datemin, datemax)\n",
    "\n",
    "        if zone != {}:\n",
    "            zones.append(zone)\n",
    "        \n",
    "    return zones\n"
   ]
  },
  {
   "cell_type": "markdown",
   "metadata": {},
   "source": [
    "# Résumé q2 et q3"
   ]
  },
  {
   "cell_type": "code",
   "execution_count": null,
   "metadata": {},
   "outputs": [],
   "source": [
    "def insert_into_summary(col, data):\n",
    "    print('insertion...')\n",
    "    col.insert_many(data)\n",
    "    print('insertion done')\n",
    "    \n",
    "    \n",
    "def insert_summary_neighbours_count(client, debut, rad):\n",
    "    \n",
    "     # list des id des différents asset\n",
    "    ids_asset = list(collection.distinct(\"asset_id\"))\n",
    "    \n",
    "    liste = list(collection.find({'recorded_at': {\"$gt\": debut}}))\n",
    "    liste = sorted(liste, key=lambda point:point['recorded_at'])\n",
    "    \n",
    "    delta = datetime.timedelta(minutes=10).total_seconds()\n",
    "    \n",
    "    fin = liste[len(liste)-1]['recorded_at']\n",
    "    datemin = liste[0]['recorded_at']\n",
    "    datemax = datemin + delta\n",
    "    \n",
    "    summ = []\n",
    "    \n",
    "    while datemin < fin:\n",
    "        \n",
    "        for id_ in ids_asset:       \n",
    "            d = asset_density(id_, rad, datemin, datemax)\n",
    "\n",
    "            if len(d['neighbors_id']) > 0:\n",
    "                summ.append(d)\n",
    "\n",
    "        datemin = datemax\n",
    "        datemax = datemin + delta\n",
    "\n",
    "    print('calculation done')\n",
    "    \n",
    "    col = client.fcd.top_asset_density\n",
    "    insert_into_summary(col, summ)\n",
    "    \n",
    "\n",
    "date = datetime.datetime(2020, 3, 1, 0, 0, 0)\n",
    "timestamp = datetime.datetime.timestamp(date)\n",
    "\n",
    "insert_summary_neighbours_count(client, timestamp, 10)\n",
    "print('\\ndone')"
   ]
  },
  {
   "cell_type": "markdown",
   "metadata": {},
   "source": [
    "# Query4"
   ]
  },
  {
   "cell_type": "code",
   "execution_count": 17,
   "metadata": {},
   "outputs": [],
   "source": [
    "import math\n",
    "import datetime\n",
    "\n",
    "# Query 4\n",
    "# Retournez le top k des périodes/ zones les plus denses \n",
    "\n",
    "\n",
    "# in meters\n",
    "def distance(lat1, lat2, lon1, lon2):\n",
    "    R = 6372800  # Earth radius in meters\n",
    "    phi1 = math.radians(lat1)\n",
    "    phi2 = math.radians(lat2)\n",
    "    dphi = math.radians(lat2 - lat1)\n",
    "    dlambda = math.radians(lon2 - lon1)\n",
    "    a = math.sin(dphi / 2) ** 2 + math.cos(phi1) * math.cos(phi2) * math.sin(dlambda / 2) ** 2\n",
    "    d = 2 * R * math.atan2(math.sqrt(a), math.sqrt(1 - a))\n",
    "    return d\n",
    "\n",
    "\n",
    "def top_k_zones(rad, option):\n",
    "    \n",
    "    # toutes les points de la base de données\n",
    "    base = list(collection.find())\n",
    "    \n",
    "    # tri selon la longitude puis la latitude\n",
    "    base = sorted(base, key=lambda point:point['location']['geo']['coordinates'])\n",
    "    print('sorting done\\n')\n",
    "    \n",
    "    \n",
    "    zones = []\n",
    "    lon = 0\n",
    "    lat = 0\n",
    "    nextP = False\n",
    "    \n",
    "    for point in base:\n",
    "        \n",
    "        if distance(lat, point['location']['geo']['coordinates'][1],\n",
    "                    lon, point['location']['geo']['coordinates'][0]) >= rad*1000*2:\n",
    "            \n",
    "            if len(zones) > 0:\n",
    "                for z in zones:\n",
    "                     \n",
    "                    if distance(z['zone']['center'][1], point['location']['geo']['coordinates'][1],\n",
    "                                z['zone']['center'][0], point['location']['geo']['coordinates'][0]) < rad*1000*2:\n",
    "                        nextP = True\n",
    "                        break\n",
    "            if nextP:\n",
    "                nextP = False\n",
    "                continue\n",
    "                \n",
    "            lon = point['location']['geo']['coordinates'][0]\n",
    "            lat = point['location']['geo']['coordinates'][1]\n",
    "            \n",
    "            d = density_list(lon, lat, rad, 0, 0, option, True, False)\n",
    "            \n",
    "            if len(d['neighbors_id']) > 0:\n",
    "                del d['period']\n",
    "                zones.append(d)\n",
    "        \n",
    "    return zones\n",
    "\n",
    "\n",
    "def top_k_periods(delta, option, begin):\n",
    "    \n",
    "    # toutes les points de la base de données\n",
    "    base = list(collection.find({'recorded_at': {\"$gt\": begin}}))\n",
    "    base = sorted(base, key=lambda point:point['recorded_at'])\n",
    "    print('sorting done\\n')\n",
    "    \n",
    "    \n",
    "    zones = []\n",
    "    \n",
    "    # intervalle de temps en minutes converti en secondes\n",
    "    delta = datetime.timedelta(minutes=delta).total_seconds()\n",
    "    \n",
    "    end = base[len(base)-1]['recorded_at']\n",
    "    datemin = base[0]['recorded_at']\n",
    "    datemax = datemin + delta\n",
    "    \n",
    "    \n",
    "    while datemin < end:\n",
    "        \n",
    "        d = density_list(-1, -1, -1, datemin, datemax, option, False, True)\n",
    "        \n",
    "        if len(d['neighbors_id']) > 0:\n",
    "            del d['zone']\n",
    "            zones.append(d)\n",
    "             \n",
    "        datemin = datemax\n",
    "        datemax = datemin + delta\n",
    "        \n",
    "        \n",
    "    return zones\n"
   ]
  },
  {
   "cell_type": "markdown",
   "metadata": {},
   "source": [
    "# Résumé pour top periods"
   ]
  },
  {
   "cell_type": "code",
   "execution_count": 18,
   "metadata": {},
   "outputs": [
    {
     "name": "stdout",
     "output_type": "stream",
     "text": [
      "\n",
      "done\n"
     ]
    }
   ],
   "source": [
    "def insert_summary_top_periods(client, begin):\n",
    "    \n",
    "    summ = top_k_periods(10, {}, begin)\n",
    "    print('calculation done')\n",
    "    \n",
    "    col = client.fcd.top_periods\n",
    "    insert_into_summary(col, summ)\n",
    "    \n",
    "    \n",
    "\n",
    "date = datetime.datetime(2020, 3, 3, 0, 0, 0)\n",
    "timestamp = datetime.datetime.timestamp(date)\n",
    "\n",
    "#insert_summary_top_periods(client, timestamp)\n",
    "print('\\ndone')"
   ]
  },
  {
   "cell_type": "markdown",
   "metadata": {},
   "source": [
    "# Résumé pour top zones"
   ]
  },
  {
   "cell_type": "code",
   "execution_count": 19,
   "metadata": {},
   "outputs": [
    {
     "name": "stdout",
     "output_type": "stream",
     "text": [
      "\n",
      "done\n"
     ]
    }
   ],
   "source": [
    "def insert_summary_top_zones(client, begin):\n",
    "    \n",
    "    summ = []\n",
    "    rads = [2, 5, 10, 20, 30]\n",
    "    op = {'recorded_at': {\"$gt\": begin}}\n",
    "    \n",
    "    for rad in rads:\n",
    "        summ.extend(top_k_zones(rad, op))\n",
    "        print(\"rad =\", rad, \"done\")\n",
    "        \n",
    "    print('calculation done')\n",
    "    \n",
    "    col = client.fcd.top_zones\n",
    "    insert_into_summary(col, summ)\n",
    "    \n",
    "    \n",
    "date = datetime.datetime(2020, 3, 1, 0, 0, 0)\n",
    "timestamp = datetime.datetime.timestamp(date)\n",
    "\n",
    "#insert_summary_top_zones(client, timestamp)\n",
    "print('\\ndone')"
   ]
  },
  {
   "cell_type": "markdown",
   "metadata": {},
   "source": [
    "# Query 4_2, top selon la zone et la période"
   ]
  },
  {
   "cell_type": "code",
   "execution_count": 20,
   "metadata": {},
   "outputs": [],
   "source": [
    "def top_k_zones_periods(rad, delta, begin):\n",
    "    \n",
    "    base = list(collection.find({'recorded_at': {\"$gt\": begin}}))\n",
    "    base = sorted(base, key=lambda point:point['recorded_at'])\n",
    "    print('\\nsorting done')\n",
    "    \n",
    "    # intervalle de temps en minutes converti en secondes\n",
    "    delta = datetime.timedelta(minutes=delta).total_seconds()\n",
    "    \n",
    "    end = base[len(base)-1]['recorded_at']\n",
    "    datemin = base[0]['recorded_at']\n",
    "    datemax = datemin + delta\n",
    " \n",
    "    zones = []\n",
    "    nextP = False\n",
    "    \n",
    "    while datemin < end:\n",
    "        \n",
    "        d1 = datemin\n",
    "        d2 = datemax\n",
    "        \n",
    "        datemin = datemax\n",
    "        datemax = datemin + delta  \n",
    "        \n",
    "        # toutes les points de la base de données\n",
    "        op = {'$and': [{'recorded_at': {\"$gt\": d1}}, {'recorded_at': {\"$lt\": d2}}]}\n",
    "        base = list(collection.find(op))\n",
    "        \n",
    "        if len(base) == 0:\n",
    "            continue\n",
    "        \n",
    "        # tri selon la longitude puis la latitude\n",
    "        base = sorted(base, key=lambda point:point['location']['geo']['coordinates'])\n",
    "\n",
    "        lon = 0\n",
    "        lat = 0\n",
    "        \n",
    "        for point in base:\n",
    "\n",
    "            if distance(lat, point['location']['geo']['coordinates'][1],\n",
    "                        lon, point['location']['geo']['coordinates'][0]) >= rad*1000*2:\n",
    "\n",
    "                if len(zones) > 0:\n",
    "                    for z in zones:\n",
    "\n",
    "                        if distance(z['zone']['center'][1], point['location']['geo']['coordinates'][1],\n",
    "                                    z['zone']['center'][0], point['location']['geo']['coordinates'][0]) < rad*1000*2:\n",
    "                            nextP = True\n",
    "                            break\n",
    "\n",
    "                if nextP:\n",
    "                    nextP = False\n",
    "                    continue\n",
    "\n",
    "                lon = point['location']['geo']['coordinates'][0]\n",
    "                lat = point['location']['geo']['coordinates'][1]     \n",
    "                    \n",
    "                zones.append(density_list(lon, lat, rad, d1, d2, {}, True, False))\n",
    "                \n",
    "    return zones\n"
   ]
  },
  {
   "cell_type": "markdown",
   "metadata": {},
   "source": [
    "# Résumé pour top zones_periods"
   ]
  },
  {
   "cell_type": "code",
   "execution_count": 14,
   "metadata": {},
   "outputs": [
    {
     "name": "stdout",
     "output_type": "stream",
     "text": [
      "\n",
      "sorting done\n",
      "rad = 2 done\n",
      "\n",
      "sorting done\n",
      "rad = 5 done\n",
      "\n",
      "sorting done\n",
      "rad = 10 done\n",
      "\n",
      "sorting done\n",
      "rad = 20 done\n",
      "\n",
      "sorting done\n",
      "rad = 30 done\n",
      "calculation done\n",
      "insertion...\n",
      "insertion done\n",
      "\n",
      "done\n"
     ]
    }
   ],
   "source": [
    "def insert_summary_top_zones_periods(client, begin):\n",
    "    \n",
    "    summ = []\n",
    "    rads = [2, 5, 10, 20, 30]\n",
    "    \n",
    "    for rad in rads:\n",
    "        summ.extend(top_k_zones_periods(rad, 10, begin))\n",
    "        print(\"rad =\", rad, \"done\")\n",
    "        \n",
    "    print('calculation done')\n",
    "    \n",
    "    col = client.fcd.top_zones_periods\n",
    "    insert_into_summary(col, summ)\n",
    "    \n",
    "    \n",
    "date = datetime.datetime(2020, 3, 1, 0, 0, 0)\n",
    "timestamp = datetime.datetime.timestamp(date)\n",
    "\n",
    "#insert_summary_top_zones_periods(client, timestamp)\n",
    "print('\\ndone')"
   ]
  },
  {
   "cell_type": "markdown",
   "metadata": {},
   "source": [
    "# Query 5"
   ]
  },
  {
   "cell_type": "code",
   "execution_count": 9,
   "metadata": {},
   "outputs": [
    {
     "name": "stdout",
     "output_type": "stream",
     "text": [
      "\n",
      "done\n"
     ]
    }
   ],
   "source": [
    "# QUERY 5\n",
    "# Retournez le top k des périodes T où nous avons le plus de voitures qui sont en circulation\n",
    "\n",
    "# les trajets (sans stay points)\n",
    "op = {\"moving\": 1}\n",
    "\n",
    "#zones = top_k_periods(delta, op)\n",
    "#pprint.pprint(zones)\n",
    "\n",
    "print('\\ndone')"
   ]
  },
  {
   "cell_type": "markdown",
   "metadata": {},
   "source": [
    "# Résumé pour top periods des voitures en circulation"
   ]
  },
  {
   "cell_type": "code",
   "execution_count": null,
   "metadata": {},
   "outputs": [],
   "source": [
    "def insert_summary_top_periods_moving(client, begin):\n",
    "    \n",
    "    summ = top_k_periods(10, {\"moving\": 1}, begin)\n",
    "    print('calculation done')\n",
    "    \n",
    "    col = client.fcd.top_periods_moving\n",
    "    insert_into_summary(col, summ)\n",
    "    \n",
    "    \n",
    "\n",
    "date = datetime.datetime(2020, 3, 3, 0, 0, 0)\n",
    "timestamp = datetime.datetime.timestamp(date)\n",
    "\n",
    "#insert_summary_top_periods_moving(client, timestamp)\n",
    "print('\\ndone')"
   ]
  }
 ],
 "metadata": {
  "kernelspec": {
   "display_name": "Python 3",
   "language": "python",
   "name": "python3"
  },
  "language_info": {
   "codemirror_mode": {
    "name": "ipython",
    "version": 3
   },
   "file_extension": ".py",
   "mimetype": "text/x-python",
   "name": "python",
   "nbconvert_exporter": "python",
   "pygments_lexer": "ipython3",
   "version": "3.7.6"
  }
 },
 "nbformat": 4,
 "nbformat_minor": 4
}
