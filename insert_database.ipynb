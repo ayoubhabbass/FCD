{
 "cells": [
  {
   "cell_type": "markdown",
   "metadata": {},
   "source": [
    "# Création d'un dictionnaire à partir de fichiers csv"
   ]
  },
  {
   "cell_type": "code",
   "execution_count": 1,
   "metadata": {},
   "outputs": [
    {
     "name": "stdout",
     "output_type": "stream",
     "text": [
      "done\n"
     ]
    }
   ],
   "source": [
    "import csv\n",
    "from datetime import datetime\n",
    "import os\n",
    "import glob\n",
    "\n",
    "def create_timestamp(date):\n",
    "    dt = datetime(int(date[0:4]), int(date[5:7]), int(date[8:10]), \n",
    "                   int(date[11:13]), int(date[14:16]), int(date[17:19]))\n",
    "    \n",
    "    dt = datetime.timestamp(dt)\n",
    "    return dt\n",
    "\n",
    "\n",
    "def filename_from_path(file):\n",
    "    \n",
    "    begin = len(file)-1\n",
    "    \n",
    "    while file[begin] != \".\":\n",
    "        begin -= 1\n",
    "        \n",
    "    end = begin\n",
    "    \n",
    "    while file[begin] != \"\\\\\":\n",
    "          begin -= 1\n",
    "          \n",
    "    begin += 1\n",
    "    return file[begin:end]\n",
    "    \n",
    "    \n",
    "\n",
    "notebook_path = os.path.abspath(\"Notebook.ipynb\")\n",
    "chemin = os.path.join(os.path.dirname(notebook_path), \"results/assets\")\n",
    "\n",
    "paths = glob.glob(chemin+'/*')\n",
    "\n",
    "data = []\n",
    "\n",
    "for i in range(0, 100):\n",
    "    \n",
    "    name = filename_from_path(paths[i])\n",
    "    \n",
    "    with open(paths[i], newline='') as csvfile:\n",
    "        reader = csv.DictReader(csvfile)\n",
    "\n",
    "        for row in reader:\n",
    "            point = {}      \n",
    "            point['asset_id'] = name\n",
    "            point['recorded_at'] = create_timestamp(row['recorded_at'])        \n",
    "            \n",
    "            g = {}\n",
    "            coord = []\n",
    "            coord.append(float(row['longitude']))\n",
    "            coord.append(float(row['latitude']))\n",
    "            g['coordinates'] = coord\n",
    "            g['type'] = \"Point\"\n",
    "            \n",
    "            loc = {}\n",
    "            loc['geo'] = g\n",
    "            point['location'] = loc\n",
    "            point['moving'] = 1  # en mouvement par défaut\n",
    "            data.append(point)\n",
    "        \n",
    "    data = sorted(data, key=lambda point: point['recorded_at'])   # tri selon recorded_at\n",
    "\n",
    "    \n",
    "print('done')"
   ]
  },
  {
   "cell_type": "markdown",
   "metadata": {},
   "source": [
    "# Importation du dictionnaire dans la base de données 'fcd'"
   ]
  },
  {
   "cell_type": "code",
   "execution_count": 2,
   "metadata": {},
   "outputs": [
    {
     "name": "stdout",
     "output_type": "stream",
     "text": [
      "insert\n",
      "done\n"
     ]
    }
   ],
   "source": [
    "import pymongo\n",
    "\n",
    "client = pymongo.MongoClient('localhost',27017)\n",
    "mydb = client[\"fcd\"]\n",
    "collection = mydb[\"assets\"]\n",
    "print('insert')\n",
    "collection.insert_many(data)\n",
    "print('done')"
   ]
  },
  {
   "cell_type": "markdown",
   "metadata": {},
   "source": [
    "# Créer une collection pour les résumés"
   ]
  },
  {
   "cell_type": "code",
   "execution_count": 9,
   "metadata": {},
   "outputs": [
    {
     "name": "stdout",
     "output_type": "stream",
     "text": [
      "insert\n",
      "done\n"
     ]
    }
   ],
   "source": [
    "import pymongo\n",
    "client = pymongo.MongoClient('localhost',27017)\n",
    "mydb = client[\"fcd\"]\n",
    "collection_resume = mydb[\"resume\"]\n",
    "data=[]\n",
    "\n",
    "resume = {} \n",
    "resume['name_resume'] = \"Requete1\"\n",
    "resume['density'] = None\n",
    "resume['neighbours_id'] = None\n",
    "resume['period'] = None\n",
    "z = {}\n",
    "z['center'] = None\n",
    "z['radius'] = None\n",
    "resume['zone'] = z\n",
    "resume['settings'] = None\n",
    "data.append(resume)\n",
    "print('insert')\n",
    "collection_resume.insert_many(data)\n",
    "print('done')"
   ]
  },
  {
   "cell_type": "markdown",
   "metadata": {},
   "source": [
    "# Ajout de l'index géo spatial"
   ]
  },
  {
   "cell_type": "code",
   "execution_count": 3,
   "metadata": {},
   "outputs": [
    {
     "name": "stdout",
     "output_type": "stream",
     "text": [
      "index response: location.geo_2dsphere\n"
     ]
    }
   ],
   "source": [
    "from pymongo import GEOSPHERE\n",
    "\n",
    "client = pymongo.MongoClient('localhost')\n",
    "collection = client.fcd.assets\n",
    "\n",
    "resp = collection.create_index([(\"location.geo\", GEOSPHERE)])\n",
    "print (\"index response:\", resp)"
   ]
  },
  {
   "cell_type": "markdown",
   "metadata": {},
   "source": [
    "# Application de l'algorithme des stay points"
   ]
  },
  {
   "cell_type": "code",
   "execution_count": 4,
   "metadata": {},
   "outputs": [
    {
     "name": "stdout",
     "output_type": "stream",
     "text": [
      "done\n"
     ]
    }
   ],
   "source": [
    "import math\n",
    "\n",
    "# in minutes\n",
    "def time_gap(current, new):\n",
    "    \n",
    "    td = abs(current - new)\n",
    "    res = td/60\n",
    "    return res\n",
    "\n",
    "# in meters\n",
    "def distance(lat1, lat2, lon1, lon2):\n",
    "    R = 6372800  # Earth radius in meters\n",
    "    phi1 = math.radians(lat1)\n",
    "    phi2 = math.radians(lat2)\n",
    "    dphi = math.radians(lat2 - lat1)\n",
    "    dlambda = math.radians(lon2 - lon1)\n",
    "    a = math.sin(dphi / 2) ** 2 + math.cos(phi1) * math.cos(phi2) * math.sin(dlambda / 2) ** 2\n",
    "    d = 2 * R * math.atan2(math.sqrt(a), math.sqrt(1 - a))\n",
    "    return d\n",
    "\n",
    "\n",
    "def algorithm_stayPoint_detection(P, distThreh, timeThreh):\n",
    "\n",
    "    i = 0\n",
    "    pointNum = len(P)\n",
    "    # print('taille', pointNum)\n",
    "    SP = []\n",
    "\n",
    "    while i < pointNum-1:\n",
    "        \n",
    "        j = i + 1\n",
    "        \n",
    "        while j < pointNum:\n",
    "            dist = distance(float(P[i]['location']['geo']['coordinates'][1]),\n",
    "                            float(P[j]['location']['geo']['coordinates'][1]),\n",
    "                            float(P[i]['location']['geo']['coordinates'][0]),\n",
    "                            float(P[j]['location']['geo']['coordinates'][0]))\n",
    "\n",
    "            if dist > distThreh:\n",
    "                break\n",
    "                \n",
    "            j+=1\n",
    "        \n",
    "        j-=1\n",
    "        \n",
    "        deltaT = time_gap(P[i]['recorded_at'], P[j]['recorded_at'])\n",
    "        if deltaT > timeThreh:\n",
    "            S = {}\n",
    "            S['arv'] = i\n",
    "            S['lev'] = j\n",
    "            SP.append(S)\n",
    "            i=j\n",
    "        else:\n",
    "            i+=1\n",
    "\n",
    "            \n",
    "    return SP\n",
    "\n",
    "\n",
    "#SP = algorithm_stayPoint_detection(data, 200, 30)\n",
    "print('done')"
   ]
  },
  {
   "cell_type": "markdown",
   "metadata": {},
   "source": [
    "# Modification de l'attribut moving dans 'fcd'"
   ]
  },
  {
   "cell_type": "code",
   "execution_count": 5,
   "metadata": {},
   "outputs": [
    {
     "name": "stdout",
     "output_type": "stream",
     "text": [
      "1730 stay points detected\n",
      "done\n"
     ]
    }
   ],
   "source": [
    "\n",
    "def set_stayPoints_database(SP, asset_points):\n",
    "\n",
    "    for stayP in SP:\n",
    "\n",
    "        for i in range(stayP['arv']+1, stayP['lev']):\n",
    "\n",
    "            filtre = {'_id': asset_points[i]['_id']}\n",
    "            collection.update_one(filtre, {\"$set\": {\"moving\": 0}})\n",
    "            \n",
    "            \n",
    "\n",
    "# tri par asset\n",
    "data = sorted(data, key=lambda point: point['asset_id'])\n",
    "current_id = data[0]['asset_id']\n",
    "\n",
    "asset_points = []\n",
    "count_SP = 0\n",
    "\n",
    "for point in data:\n",
    "\n",
    "    if point['asset_id'] == current_id:\n",
    "        asset_points.append(point)\n",
    "        \n",
    "    else:\n",
    "        # tri chronologique           \n",
    "        asset_points = sorted(asset_points, key=lambda point: point['recorded_at'])\n",
    "        # detection des stay points\n",
    "        SP = algorithm_stayPoint_detection(asset_points, 200, 30)\n",
    "        count_SP += len(SP)\n",
    "        \n",
    "        # mofication de la base de données\n",
    "        set_stayPoints_database(SP, asset_points)\n",
    "        \n",
    "        #reinitialisation\n",
    "        current_id = point['asset_id']\n",
    "        asset_points = []\n",
    "        asset_points.append(point)\n",
    "    \n",
    "    \n",
    "    \n",
    "# pour le dernier asset\n",
    "\n",
    "# tri chronologique           \n",
    "asset_points = sorted(asset_points, key=lambda point: point['recorded_at'])\n",
    "# detection des stay points\n",
    "SP = algorithm_stayPoint_detection(asset_points, 200, 30)\n",
    "count_SP += len(SP)\n",
    "# mofication de la base de données\n",
    "set_stayPoints_database(SP, asset_points)\n",
    "\n",
    "print(count_SP, 'stay points detected')\n",
    "print('done')"
   ]
  },
  {
   "cell_type": "code",
   "execution_count": null,
   "metadata": {},
   "outputs": [],
   "source": []
  }
 ],
 "metadata": {
  "kernelspec": {
   "display_name": "Python 3",
   "language": "python",
   "name": "python3"
  },
  "language_info": {
   "codemirror_mode": {
    "name": "ipython",
    "version": 3
   },
   "file_extension": ".py",
   "mimetype": "text/x-python",
   "name": "python",
   "nbconvert_exporter": "python",
   "pygments_lexer": "ipython3",
   "version": "3.7.6"
  }
 },
 "nbformat": 4,
 "nbformat_minor": 4
}
