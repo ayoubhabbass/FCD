{
 "cells": [
  {
   "cell_type": "markdown",
   "metadata": {},
   "source": [
    "# Insertion de nouveaux points"
   ]
  },
  {
   "cell_type": "code",
   "execution_count": 1,
   "metadata": {},
   "outputs": [
    {
     "name": "stdout",
     "output_type": "stream",
     "text": [
      "done\n"
     ]
    }
   ],
   "source": [
    "import os\n",
    "import glob\n",
    "\n",
    "directory = \"results/assets\"\n",
    "notebook_path = os.path.abspath(\"Notebook.ipynb\")\n",
    "chemin = os.path.join(os.path.dirname(notebook_path), directory)\n",
    "paths = glob.glob(chemin+'/*')\n",
    "\n",
    "print(\"done\")"
   ]
  },
  {
   "cell_type": "code",
   "execution_count": 2,
   "metadata": {},
   "outputs": [
    {
     "name": "stdout",
     "output_type": "stream",
     "text": [
      "done\n"
     ]
    }
   ],
   "source": [
    "from insertion_data import *\n",
    "\n",
    "client = pymongo.MongoClient('localhost',27017)\n",
    "collection = client.fcd.assets\n",
    "\n",
    "print('done')"
   ]
  },
  {
   "cell_type": "code",
   "execution_count": null,
   "metadata": {
    "scrolled": true
   },
   "outputs": [
    {
     "name": "stdout",
     "output_type": "stream",
     "text": [
      "file 14256004530491 ...\n",
      "file 14256004530491 done, 1 assets added\n",
      "file 14256004535292 ...\n",
      "file 14256004535292 done, 2 assets added\n",
      "file 14256004559268 ...\n",
      "file 14256004559268 done, 3 assets added\n",
      "file 14256004569226 ...\n",
      "file 14256004569226 done, 4 assets added\n",
      "file 14256004574044 ...\n",
      "file 14256004574044 done, 5 assets added\n",
      "file 14256004592574 ...\n",
      "file 14256004592574 done, 6 assets added\n",
      "file 14256004644482 ...\n",
      "file 14256004644482 done, 7 assets added\n",
      "file 14256004664720 ...\n",
      "file 14256004664720 done, 8 assets added\n",
      "file 14295000005090 ...\n",
      "file 14295000005090 done, 9 assets added\n",
      "file 14295000006551 ...\n"
     ]
    }
   ],
   "source": [
    "insert_data(paths, \"assets\", collection)\n"
   ]
  },
  {
   "cell_type": "code",
   "execution_count": 4,
   "metadata": {},
   "outputs": [
    {
     "name": "stdout",
     "output_type": "stream",
     "text": [
      "index response: location.geo_2dsphere\n"
     ]
    }
   ],
   "source": [
    "# ajout index géo spatial\n",
    "add_2dsphere_index(collection, \"location.geo\")"
   ]
  }
 ],
 "metadata": {
  "kernelspec": {
   "display_name": "Python 3",
   "language": "python",
   "name": "python3"
  },
  "language_info": {
   "codemirror_mode": {
    "name": "ipython",
    "version": 3
   },
   "file_extension": ".py",
   "mimetype": "text/x-python",
   "name": "python",
   "nbconvert_exporter": "python",
   "pygments_lexer": "ipython3",
   "version": "3.7.6"
  }
 },
 "nbformat": 4,
 "nbformat_minor": 4
}
