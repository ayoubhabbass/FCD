{
 "cells": [
  {
   "cell_type": "markdown",
   "metadata": {},
   "source": [
    "# Création d'un dictionnaire à partir de fichiers csv"
   ]
  },
  {
   "cell_type": "code",
   "execution_count": 1,
   "metadata": {},
   "outputs": [
    {
     "name": "stdout",
     "output_type": "stream",
     "text": [
      "done\n"
     ]
    }
   ],
   "source": [
    "import csv\n",
    "from datetime import datetime\n",
    "import os\n",
    "import glob\n",
    "\n",
    "def create_timestamp(date):\n",
    "    dt = datetime(int(date[0:4]), int(date[5:7]), int(date[8:10]), \n",
    "                   int(date[11:13]), int(date[14:16]), int(date[17:19]))\n",
    "    \n",
    "    dt = datetime.timestamp(dt)\n",
    "    return dt\n",
    "\n",
    "\n",
    "def filename_from_path(file):\n",
    "    \n",
    "    begin = len(file)-1\n",
    "    \n",
    "    while file[begin] != \".\":\n",
    "        begin -= 1\n",
    "        \n",
    "    end = begin\n",
    "    \n",
    "    while file[begin] != \"\\\\\":\n",
    "          begin -= 1\n",
    "          \n",
    "    begin += 1\n",
    "    return file[begin:end]\n",
    "    \n",
    "    \n",
    "\n",
    "notebook_path = os.path.abspath(\"Notebook.ipynb\")\n",
    "chemin = os.path.join(os.path.dirname(notebook_path), \"results/assets\")\n",
    "\n",
    "paths = glob.glob(chemin+'/*')\n",
    "\n",
    "data = []\n",
    "\n",
    "for i in range(0, 50):\n",
    "    \n",
    "    name = filename_from_path(paths[i])\n",
    "    \n",
    "    with open(paths[i], newline='') as csvfile:\n",
    "        reader = csv.DictReader(csvfile)\n",
    "\n",
    "        for row in reader:\n",
    "            point = {}      \n",
    "            point['asset'] = name\n",
    "            point['recorded_at'] = create_timestamp(row['recorded_at'])\n",
    "            \n",
    "            coord = []\n",
    "            coord.append(float(row['longitude']))\n",
    "            coord.append(float(row['latitude']))\n",
    "            point['coordinates'] = coord\n",
    "            \n",
    "            data.append(point)\n",
    "        \n",
    "    data = sorted(data, key=lambda point: point['recorded_at'])   # tri selon recorded_at\n",
    "\n",
    "    \n",
    "print('done')"
   ]
  },
  {
   "cell_type": "markdown",
   "metadata": {},
   "source": [
    "# Index géo spatial"
   ]
  },
  {
   "cell_type": "code",
   "execution_count": 2,
   "metadata": {},
   "outputs": [
    {
     "name": "stdout",
     "output_type": "stream",
     "text": [
      "index response: coordinates_2dsphere\n"
     ]
    }
   ],
   "source": [
    "import pymongo\n",
    "from pymongo import GEOSPHERE\n",
    "\n",
    "client = pymongo.MongoClient('localhost')\n",
    "collection = client.munic.assets\n",
    "\n",
    "resp = collection.create_index([(\"coordinates\", GEOSPHERE)])\n",
    "print (\"index response:\", resp)"
   ]
  },
  {
   "cell_type": "markdown",
   "metadata": {},
   "source": [
    "# Importation du dictionnaire dans la base de données 'munic'"
   ]
  },
  {
   "cell_type": "code",
   "execution_count": 3,
   "metadata": {},
   "outputs": [
    {
     "name": "stdout",
     "output_type": "stream",
     "text": [
      "insert\n",
      "done\n"
     ]
    }
   ],
   "source": [
    "client = pymongo.MongoClient('localhost',27017)\n",
    "mydb = client[\"munic\"]\n",
    "collection = mydb[\"assets\"]\n",
    "\n",
    "print('insert')\n",
    "collection.insert_many(data)\n",
    "print('done')"
   ]
  }
 ],
 "metadata": {
  "kernelspec": {
   "display_name": "Python 3",
   "language": "python",
   "name": "python3"
  },
  "language_info": {
   "codemirror_mode": {
    "name": "ipython",
    "version": 3
   },
   "file_extension": ".py",
   "mimetype": "text/x-python",
   "name": "python",
   "nbconvert_exporter": "python",
   "pygments_lexer": "ipython3",
   "version": "3.7.6"
  }
 },
 "nbformat": 4,
 "nbformat_minor": 4
}
