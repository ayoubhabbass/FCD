{
 "cells": [
  {
   "cell_type": "markdown",
   "metadata": {},
   "source": [
    "# Connexion à la base de données 'fcd'"
   ]
  },
  {
   "cell_type": "code",
   "execution_count": 1,
   "metadata": {},
   "outputs": [
    {
     "name": "stdout",
     "output_type": "stream",
     "text": [
      "done\n"
     ]
    }
   ],
   "source": [
    "import pandas as pd\n",
    "import pymongo\n",
    "import datetime\n",
    "from datetime import timedelta\n",
    "import math\n",
    "import pprint\n",
    "\n",
    "client = pymongo.MongoClient('localhost')\n",
    "collection = client.fcd.top_periods\n",
    "\n",
    "print('done')"
   ]
  },
  {
   "cell_type": "markdown",
   "metadata": {},
   "source": [
    "# top periods"
   ]
  },
  {
   "cell_type": "code",
   "execution_count": 169,
   "metadata": {},
   "outputs": [
    {
     "name": "stdout",
     "output_type": "stream",
     "text": [
      "[{'density': 8}]\n"
     ]
    }
   ],
   "source": [
    "import pprint\n",
    "import datetime\n",
    "def density_count(datemin,datemax):\n",
    "    pipeline = [\n",
    "    \n",
    "      {\"$match\" : {'$and': [{'period.0': {\"$gte\": datemin}}, {'period.1': {\"$lte\": datemax}}]}},\n",
    "        {\"$unwind\":\"$neighbors_id\"},\n",
    "  {\"$group\":{\"_id\":\"null\", \"neighbors\": {\"$addToSet\" : \"$neighbors_id\"} }},\n",
    "        {\"$project\":{\"_id\":0, \"density\": { \"$size\":\"$neighbors\" }}},\n",
    "        \n",
    " \n",
    "    \n",
    "            ]\n",
    "    res = list(collection.aggregate(pipeline))\n",
    "    \n",
    "    return res\n",
    "res=density_count(1583190001.0,1583211001.0)\n",
    "print(res)"
   ]
  },
  {
   "cell_type": "code",
   "execution_count": 168,
   "metadata": {},
   "outputs": [
    {
     "data": {
      "text/plain": [
       "[{'density': 28, 'period': [1583262001.0, 1583334001.0]},\n",
       " {'density': 26, 'period': [1583190001.0, 1583262001.0]},\n",
       " {'density': 25, 'period': [1583478001.0, 1583550001.0]},\n",
       " {'density': 24, 'period': [1583334001.0, 1583406001.0]},\n",
       " {'density': 24, 'period': [1583406001.0, 1583478001.0]},\n",
       " {'density': 24, 'period': [1583550001.0, 1583622001.0]},\n",
       " {'density': 22, 'period': [1583622001.0, 1583694001.0]},\n",
       " {'density': 3, 'period': [1583694001.0, 1583766001.0]}]"
      ]
     },
     "execution_count": 168,
     "metadata": {},
     "output_type": "execute_result"
    }
   ],
   "source": [
    "\n",
    "def top_k_periods(k, delta):\n",
    "    base = list(collection.find())\n",
    "    zones = []\n",
    "    delta = datetime.timedelta(hours=delta).total_seconds()\n",
    "    end = base[len(base)-1]['period'][1]\n",
    "    datemin = base[0]['period'][0]\n",
    "    datemax = datemin + delta\n",
    "    while datemin < end: \n",
    "        d=density_count(datemin,datemax)\n",
    "        dico=d[0]\n",
    "        dico['period']=[datemin,datemax]\n",
    "        if dico['density'] >0:\n",
    "            \n",
    "            zones.append(dico)\n",
    "        datemin = datemax\n",
    "        datemax = datemin + delta       \n",
    "    zones = sorted(zones, key=lambda dico:dico['density'], reverse=True)\n",
    "    if k == 'all':\n",
    "        return zones\n",
    "    \n",
    "    if k > len(zones):\n",
    "        k = len(zones)\n",
    "        \n",
    "    return zones[0:k]\n",
    "top_k_periods(5,20)    \n",
    "    "
   ]
  },
  {
   "cell_type": "code",
   "execution_count": null,
   "metadata": {},
   "outputs": [],
   "source": []
  }
 ],
 "metadata": {
  "kernelspec": {
   "display_name": "Python 3",
   "language": "python",
   "name": "python3"
  },
  "language_info": {
   "codemirror_mode": {
    "name": "ipython",
    "version": 3
   },
   "file_extension": ".py",
   "mimetype": "text/x-python",
   "name": "python",
   "nbconvert_exporter": "python",
   "pygments_lexer": "ipython3",
   "version": "3.8.3"
  }
 },
 "nbformat": 4,
 "nbformat_minor": 4
}
