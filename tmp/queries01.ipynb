{
 "cells": [
  {
   "cell_type": "markdown",
   "metadata": {},
   "source": [
    "# Connection à la base de données 'fcd'"
   ]
  },
  {
   "cell_type": "code",
   "execution_count": 1,
   "metadata": {},
   "outputs": [
    {
     "name": "stdout",
     "output_type": "stream",
     "text": [
      "done\n"
     ]
    }
   ],
   "source": [
    "import pandas as pd\n",
    "import pymongo\n",
    "\n",
    "client = pymongo.MongoClient('localhost')\n",
    "collection = client.fcd.assets\n",
    "\n",
    "print('done')"
   ]
  },
  {
   "cell_type": "markdown",
   "metadata": {},
   "source": [
    "# Lecture dans la base"
   ]
  },
  {
   "cell_type": "code",
   "execution_count": 2,
   "metadata": {},
   "outputs": [
    {
     "data": {
      "text/html": [
       "<div>\n",
       "<style scoped>\n",
       "    .dataframe tbody tr th:only-of-type {\n",
       "        vertical-align: middle;\n",
       "    }\n",
       "\n",
       "    .dataframe tbody tr th {\n",
       "        vertical-align: top;\n",
       "    }\n",
       "\n",
       "    .dataframe thead th {\n",
       "        text-align: right;\n",
       "    }\n",
       "</style>\n",
       "<table border=\"1\" class=\"dataframe\">\n",
       "  <thead>\n",
       "    <tr style=\"text-align: right;\">\n",
       "      <th></th>\n",
       "      <th>_id</th>\n",
       "      <th>asset_id</th>\n",
       "      <th>recorded_at</th>\n",
       "      <th>location</th>\n",
       "    </tr>\n",
       "  </thead>\n",
       "  <tbody>\n",
       "    <tr>\n",
       "      <th>0</th>\n",
       "      <td>5f16a5bd9c984c3e2ad2fc23</td>\n",
       "      <td>14429000032073</td>\n",
       "      <td>1.583104e+09</td>\n",
       "      <td>{'geo': {'coordinates': [-114.028, 50.9551], '...</td>\n",
       "    </tr>\n",
       "    <tr>\n",
       "      <th>1</th>\n",
       "      <td>5f16a5bd9c984c3e2ad2fc24</td>\n",
       "      <td>14429000032073</td>\n",
       "      <td>1.583104e+09</td>\n",
       "      <td>{'geo': {'coordinates': [-114.028, 50.9554], '...</td>\n",
       "    </tr>\n",
       "    <tr>\n",
       "      <th>2</th>\n",
       "      <td>5f16a5bd9c984c3e2ad2fc25</td>\n",
       "      <td>14429000032073</td>\n",
       "      <td>1.583104e+09</td>\n",
       "      <td>{'geo': {'coordinates': [-114.028, 50.9558], '...</td>\n",
       "    </tr>\n",
       "    <tr>\n",
       "      <th>3</th>\n",
       "      <td>5f16a5bd9c984c3e2ad2fc26</td>\n",
       "      <td>14429000032073</td>\n",
       "      <td>1.583104e+09</td>\n",
       "      <td>{'geo': {'coordinates': [-114.026, 50.9554], '...</td>\n",
       "    </tr>\n",
       "    <tr>\n",
       "      <th>4</th>\n",
       "      <td>5f16a5bd9c984c3e2ad2fc27</td>\n",
       "      <td>14429000032073</td>\n",
       "      <td>1.583104e+09</td>\n",
       "      <td>{'geo': {'coordinates': [-114.026, 50.9544], '...</td>\n",
       "    </tr>\n",
       "  </tbody>\n",
       "</table>\n",
       "</div>"
      ],
      "text/plain": [
       "                        _id        asset_id   recorded_at  \\\n",
       "0  5f16a5bd9c984c3e2ad2fc23  14429000032073  1.583104e+09   \n",
       "1  5f16a5bd9c984c3e2ad2fc24  14429000032073  1.583104e+09   \n",
       "2  5f16a5bd9c984c3e2ad2fc25  14429000032073  1.583104e+09   \n",
       "3  5f16a5bd9c984c3e2ad2fc26  14429000032073  1.583104e+09   \n",
       "4  5f16a5bd9c984c3e2ad2fc27  14429000032073  1.583104e+09   \n",
       "\n",
       "                                            location  \n",
       "0  {'geo': {'coordinates': [-114.028, 50.9551], '...  \n",
       "1  {'geo': {'coordinates': [-114.028, 50.9554], '...  \n",
       "2  {'geo': {'coordinates': [-114.028, 50.9558], '...  \n",
       "3  {'geo': {'coordinates': [-114.026, 50.9554], '...  \n",
       "4  {'geo': {'coordinates': [-114.026, 50.9544], '...  "
      ]
     },
     "execution_count": 2,
     "metadata": {},
     "output_type": "execute_result"
    }
   ],
   "source": [
    "cursor = collection.find()\n",
    "entries = list(cursor)\n",
    "\n",
    "#entries[:]\n",
    "\n",
    "df = pd.DataFrame(entries)\n",
    "df.head()\n",
    "print('\\ndone')"
   ]
  },
  {
   "cell_type": "markdown",
   "metadata": {},
   "source": [
    "# Entrée 1 : géo"
   ]
  },
  {
   "cell_type": "code",
   "execution_count": 2,
   "metadata": {},
   "outputs": [
    {
     "name": "stdout",
     "output_type": "stream",
     "text": [
      "longitude -> -113.584\n",
      "latitude -> 53.5124\n",
      "rayon (km) -> 5\n",
      "\n",
      "done\n"
     ]
    }
   ],
   "source": [
    "lon = float(input(\"longitude -> \"))\n",
    "lat = float(input(\"latitude -> \"))\n",
    "rad = float(input(\"rayon (km) -> \"))\n",
    "\n",
    "print('\\ndone')"
   ]
  },
  {
   "cell_type": "markdown",
   "metadata": {},
   "source": [
    "# Entrée 2 : date"
   ]
  },
  {
   "cell_type": "code",
   "execution_count": 3,
   "metadata": {},
   "outputs": [
    {
     "name": "stdout",
     "output_type": "stream",
     "text": [
      "Annee -> 2020\n",
      "Mois -> 3\n",
      "Jour -> 5\n",
      "Heure -> 14\n",
      "Minutes -> 30\n",
      "Secondes -> 5\n",
      "\n",
      "done\n"
     ]
    }
   ],
   "source": [
    "from datetime import timedelta\n",
    "from datetime import datetime\n",
    "\n",
    "year = int(input(\"Annee -> \"))\n",
    "month = int(input(\"Mois -> \"))\n",
    "day = int(input(\"Jour -> \"))\n",
    "hour = int(input(\"Heure -> \"))\n",
    "minutes = int(input(\"Minutes -> \"))\n",
    "seconds = int(input(\"Secondes -> \"))\n",
    "date = datetime(year, month, day, hour, minutes, seconds)\n",
    "\n",
    "print('\\ndone')"
   ]
  },
  {
   "cell_type": "markdown",
   "metadata": {},
   "source": [
    "# Entrée 3 : période"
   ]
  },
  {
   "cell_type": "code",
   "execution_count": 4,
   "metadata": {},
   "outputs": [
    {
     "name": "stdout",
     "output_type": "stream",
     "text": [
      "Période (minutes) -> 60\n",
      "\n",
      "done\n"
     ]
    }
   ],
   "source": [
    "T = int(input(\"Période (minutes) -> \"))\n",
    "delta = timedelta(minutes = float(T/2))\n",
    "\n",
    "datemin = date - delta\n",
    "datemax = date + delta\n",
    "\n",
    "datemin = datetime.timestamp(datemin)\n",
    "datemax = datetime.timestamp(datemax)\n",
    "\n",
    "print('\\ndone')"
   ]
  },
  {
   "cell_type": "markdown",
   "metadata": {},
   "source": [
    "# QUERY 1 "
   ]
  },
  {
   "cell_type": "code",
   "execution_count": 5,
   "metadata": {},
   "outputs": [
    {
     "name": "stdout",
     "output_type": "stream",
     "text": [
      "density : 0\n",
      "done\n"
     ]
    }
   ],
   "source": [
    "import pprint\n",
    "\n",
    "\n",
    "# QUERY 1\n",
    "# Calculer la densité [nombre de points] sur une Zone géographique Z et une période T \n",
    "\n",
    "def density_list(lon, lat, rad, datemin, datemax, option):\n",
    "    \n",
    "    # points dans une zone Z\n",
    "    query01 = {\n",
    "        \"location.geo\": {\n",
    "            \"$nearSphere\": {\n",
    "                \"$geometry\": {\n",
    "                    \"type\": \"Point\",\n",
    "                    \"coordinates\": [ lon, lat]\n",
    "                },\n",
    "                \"$minDistance\": 0,\n",
    "                \"$maxDistance\": rad*1000 # mètres\n",
    "            }\n",
    "        }\n",
    "    }\n",
    "\n",
    "    # points à une période T\n",
    "    query02 = {'$and': [{'recorded_at': {\"$gt\": datemin}}, {'recorded_at': {\"$lt\": datemax}}]}\n",
    "\n",
    "\n",
    "    # requête finale\n",
    "    query = {'$and': [query01, query02]}\n",
    "\n",
    "    if option != {} :\n",
    "        query = {'$and': [query, option]}\n",
    "\n",
    "    return list(collection.find(query))\n",
    "\n",
    "\n",
    "result = density_list(lon, lat, rad, datemin, datemax, {})\n",
    "print (\"density :\", len(result))\n",
    "\n",
    "print('done')"
   ]
  },
  {
   "cell_type": "markdown",
   "metadata": {},
   "source": [
    "# QUERY 2"
   ]
  },
  {
   "cell_type": "code",
   "execution_count": 6,
   "metadata": {},
   "outputs": [
    {
     "name": "stdout",
     "output_type": "stream",
     "text": [
      "density : 32\n",
      "circle zone of 5.0 km around [-113.403, 53.4946]\n",
      "\n",
      "done\n"
     ]
    }
   ],
   "source": [
    "import pprint\n",
    "\n",
    "# QUERY 2\n",
    "# Retourner le nombre de points voisins d'un asset X dans une période T.\n",
    "\n",
    "\n",
    "def asset_density(id_asset, rad, datemin, datemax):\n",
    "\n",
    "    # les points d'un asset X\n",
    "    query01 = {\"asset_id\": id_asset}\n",
    "\n",
    "    # points à une période T\n",
    "    query02 = {'$and': [{'recorded_at': {\"$gt\": datemin}}, {'recorded_at': {\"$lt\": datemax}}]}\n",
    "\n",
    "    # les points d'un asset X à une période T\n",
    "    query03 = {'$and': [query01, query02]}\n",
    "\n",
    "    tmp = list(collection.find(query03))\n",
    "\n",
    "    lon = 0\n",
    "    lat = 0\n",
    "    density = 0\n",
    "    result = {}\n",
    "    res = None\n",
    "\n",
    "    for doc in tmp:\n",
    "        lon = doc['location']['geo']['coordinates'][0]\n",
    "        lat = doc['location']['geo']['coordinates'][1]\n",
    "        d_list = density_list(lon, lat, rad, datemin, datemax, {\"asset_id\": {\"$ne\": id_asset}})\n",
    "\n",
    "        if len(d_list) > density:\n",
    "            density = len(d_list)\n",
    "            res = doc\n",
    "\n",
    "    if len(tmp) > 0 and density > 0:\n",
    "        result['asset_id'] = id_asset\n",
    "        result['density'] = density\n",
    "        result['radius'] = rad\n",
    "        result['center'] = res['location']['geo']['coordinates']\n",
    "\n",
    "    return result\n",
    "    \n",
    "    \n",
    "result = asset_density('14429000019112', rad, datemin, datemax)\n",
    "\n",
    "if result != {}:\n",
    "    print('density :', result['density'])\n",
    "    print('circle zone of',result['radius'],'km around', result['center'])\n",
    "\n",
    "print('\\ndone')"
   ]
  },
  {
   "cell_type": "markdown",
   "metadata": {},
   "source": [
    "# QUERY 3"
   ]
  },
  {
   "cell_type": "code",
   "execution_count": 8,
   "metadata": {},
   "outputs": [
    {
     "name": "stdout",
     "output_type": "stream",
     "text": [
      "[{'asset_id': '14429000008909',\n",
      "  'center': [-114.031, 50.9487],\n",
      "  'density': 265,\n",
      "  'radius': 5.0},\n",
      " {'asset_id': '14429000035001',\n",
      "  'center': [-114.06, 50.8978],\n",
      "  'density': 261,\n",
      "  'radius': 5.0},\n",
      " {'asset_id': '14429000032073',\n",
      "  'center': [-114.043, 50.8931],\n",
      "  'density': 239,\n",
      "  'radius': 5.0}]\n",
      "\n",
      "done\n"
     ]
    }
   ],
   "source": [
    "# QUERY 3\n",
    "# Retournez le top k des périodes/ zones les plus denses\n",
    "\n",
    "\n",
    "def top_k_zones(k, rad, datemin, datemax):\n",
    "    \n",
    "    # list des id des différents asset\n",
    "    ids_asset = list(collection.distinct(\"asset_id\"))\n",
    "\n",
    "    zones = []\n",
    "\n",
    "    for id_ in ids_asset:\n",
    "\n",
    "        zone = asset_density(id_, rad, datemin, datemax)\n",
    "\n",
    "        if zone != {}:\n",
    "            zones.append(zone)\n",
    "\n",
    "\n",
    "    zones = sorted(zones, key=lambda zone:zone['density'], reverse=True)\n",
    "    \n",
    "    if k > len(zones):\n",
    "        k = len(zones)\n",
    "        \n",
    "    return zones[0:k]\n",
    "\n",
    "zones = top_k_zones(3, rad, datemin, datemax)\n",
    "pprint.pprint(zones)\n",
    "print('\\ndone')"
   ]
  },
  {
   "cell_type": "code",
   "execution_count": null,
   "metadata": {},
   "outputs": [],
   "source": []
  },
  {
   "cell_type": "code",
   "execution_count": null,
   "metadata": {},
   "outputs": [],
   "source": []
  }
 ],
 "metadata": {
  "kernelspec": {
   "display_name": "Python 3",
   "language": "python",
   "name": "python3"
  },
  "language_info": {
   "codemirror_mode": {
    "name": "ipython",
    "version": 3
   },
   "file_extension": ".py",
   "mimetype": "text/x-python",
   "name": "python",
   "nbconvert_exporter": "python",
   "pygments_lexer": "ipython3",
   "version": "3.7.6"
  }
 },
 "nbformat": 4,
 "nbformat_minor": 4
}
