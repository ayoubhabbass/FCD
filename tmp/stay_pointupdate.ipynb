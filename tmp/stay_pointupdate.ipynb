{
 "cells": [
  {
   "cell_type": "markdown",
   "metadata": {},
   "source": [
    "# Connection à la base de données 'fcd'"
   ]
  },
  {
   "cell_type": "code",
   "execution_count": 1,
   "metadata": {},
   "outputs": [
    {
     "name": "stdout",
     "output_type": "stream",
     "text": [
      "done\n"
     ]
    }
   ],
   "source": [
    "import pandas as pd\n",
    "import pymongo\n",
    "\n",
    "client = pymongo.MongoClient('localhost')\n",
    "collection = client.fcd.assets\n",
    "\n",
    "print('done')"
   ]
  },
  {
   "cell_type": "markdown",
   "metadata": {},
   "source": [
    "# Lecture de la base de donnée"
   ]
  },
  {
   "cell_type": "code",
   "execution_count": 18,
   "metadata": {},
   "outputs": [
    {
     "name": "stdout",
     "output_type": "stream",
     "text": [
      "done\n"
     ]
    }
   ],
   "source": [
    "import pprint\n",
    "cursor = collection.find()\n",
    "entries = list(cursor)\n",
    "\n",
    "P = []\n",
    "for row in entries :\n",
    "    point = {}\n",
    "    point['asset_id'] = row['asset_id']\n",
    "    point['recorded_at'] = row['recorded_at']\n",
    "    point['latitude'] = row['location']['geo']['coordinates'][1]\n",
    "    point['longitude'] =row['location']['geo']['coordinates'][0]\n",
    "    P.append(point)\n",
    "        \n",
    "        \n",
    "P = sorted(P, key=lambda point: point['recorded_at'])   # tri selon timestamp(recorded_at)\n",
    "print('done')"
   ]
  },
  {
   "cell_type": "markdown",
   "metadata": {},
   "source": [
    "# Application de l'algorithme des stay points"
   ]
  },
  {
   "cell_type": "code",
   "execution_count": 19,
   "metadata": {},
   "outputs": [
    {
     "name": "stdout",
     "output_type": "stream",
     "text": [
      "taille 118653\n",
      "done\n"
     ]
    }
   ],
   "source": [
    "\n",
    "# in minutes\n",
    "def time_gap(current, new):\n",
    "    \n",
    "    td = abs(current - new)\n",
    "    res = td/60\n",
    "    return res\n",
    "\n",
    "# in meters\n",
    "def distance(lat1, lat2, lon1, lon2):\n",
    "    R = 6372800  # Earth radius in meters\n",
    "    phi1 = math.radians(lat1)\n",
    "    phi2 = math.radians(lat2)\n",
    "    dphi = math.radians(lat2 - lat1)\n",
    "    dlambda = math.radians(lon2 - lon1)\n",
    "    a = math.sin(dphi / 2) ** 2 + math.cos(phi1) * math.cos(phi2) * math.sin(dlambda / 2) ** 2\n",
    "    d = 2 * R * math.atan2(math.sqrt(a), math.sqrt(1 - a))\n",
    "    return d\n",
    "\n",
    "\n",
    "def algorithm_stayPoint_detection(P, distThreh, timeThreh):\n",
    "\n",
    "    i = 0\n",
    "    pointNum = len(P)\n",
    "    print('taille', pointNum)\n",
    "    SP = []\n",
    "\n",
    "    while i < pointNum-1:\n",
    "        \n",
    "        j = i + 1\n",
    "        \n",
    "        while j < pointNum:\n",
    "            dist = distance(float(P[i]['latitude']), float(P[j]['latitude']),\n",
    "                            float(P[i]['longitude']), float(P[j]['longitude']))\n",
    "\n",
    "            if dist > distThreh:\n",
    "                break\n",
    "                \n",
    "            j+=1\n",
    "        \n",
    "        j-=1\n",
    "        \n",
    "        deltaT = time_gap(P[i]['recorded_at'], P[j]['recorded_at'])\n",
    "        if deltaT > timeThreh:\n",
    "            S = {}\n",
    "            S['arv'] = i\n",
    "            S['lev'] = j\n",
    "            SP.append(S)\n",
    "            i=j\n",
    "        else:\n",
    "            i+=1\n",
    "\n",
    "            \n",
    "    return SP\n",
    "\n",
    "\n",
    "S = algorithm_stayPoint_detection(P, 200, 30)\n",
    "print('done')"
   ]
  },
  {
   "cell_type": "markdown",
   "metadata": {},
   "source": [
    "# Séparation des différents trips"
   ]
  },
  {
   "cell_type": "code",
   "execution_count": 20,
   "metadata": {},
   "outputs": [
    {
     "name": "stdout",
     "output_type": "stream",
     "text": [
      "done\n"
     ]
    }
   ],
   "source": [
    "border = 0\n",
    "trips = []\n",
    "\n",
    "for stayP in S:\n",
    "    \n",
    "    if stayP['arv'] <= border:\n",
    "        border = stayP['lev']\n",
    "    else:\n",
    "        S ={}\n",
    "        S['arv'] = border\n",
    "        S['lev'] = stayP['arv']\n",
    "        trips.append(S)\n",
    "        border = stayP['lev']\n",
    "        \n",
    "\n",
    "if border < len(P)-1:\n",
    "    S ={}\n",
    "    S['arv'] = border\n",
    "    S['lev'] = len(P)-1\n",
    "    trips.append(S)\n",
    "\n",
    "print('done')"
   ]
  },
  {
   "cell_type": "markdown",
   "metadata": {},
   "source": [
    "# Création d'un dictionnaire des points sans Stay point"
   ]
  },
  {
   "cell_type": "code",
   "execution_count": 21,
   "metadata": {},
   "outputs": [
    {
     "name": "stdout",
     "output_type": "stream",
     "text": [
      "done\n"
     ]
    }
   ],
   "source": [
    "data=[]\n",
    "num_trip=0\n",
    "for trip in trips:\n",
    "    num_trip += 1\n",
    "    for i in range(trip['arv'], trip['lev']+1):\n",
    "        point = {}\n",
    "        point['trip']=num_trip\n",
    "        point['asset_id'] = P[i]['asset_id']\n",
    "        point['recorded_at'] = P[i]['recorded_at']        \n",
    "        g = {}\n",
    "        coord = []\n",
    "        coord.append(float(P[i]['longitude']))\n",
    "        coord.append(float(P[i]['latitude']))\n",
    "        g['coordinates'] = coord\n",
    "        g['type'] = \"Point\"\n",
    "        loc = {}\n",
    "        loc['geo'] = g\n",
    "        point['location'] = loc\n",
    "        data.append(point)\n",
    "\n",
    "    \n",
    "print('done')"
   ]
  },
  {
   "cell_type": "markdown",
   "metadata": {},
   "source": [
    "# Index géo spatial "
   ]
  },
  {
   "cell_type": "code",
   "execution_count": 22,
   "metadata": {},
   "outputs": [
    {
     "name": "stdout",
     "output_type": "stream",
     "text": [
      "index response: location.geo_2dsphere\n"
     ]
    }
   ],
   "source": [
    "import pymongo\n",
    "from pymongo import GEOSPHERE\n",
    "\n",
    "client = pymongo.MongoClient('localhost')\n",
    "collection = client.fcd.trips\n",
    "resp = collection.create_index([(\"location.geo\", GEOSPHERE)])\n",
    "print (\"index response:\", resp)"
   ]
  },
  {
   "cell_type": "markdown",
   "metadata": {},
   "source": [
    "# Insertion dans la base de donnée "
   ]
  },
  {
   "cell_type": "code",
   "execution_count": 23,
   "metadata": {},
   "outputs": [
    {
     "name": "stdout",
     "output_type": "stream",
     "text": [
      "insert\n",
      "done\n"
     ]
    }
   ],
   "source": [
    "\n",
    "client = pymongo.MongoClient('localhost',27017)\n",
    "mydb = client[\"fcd\"]\n",
    "collection = mydb[\"trips\"]\n",
    "\n",
    "print('insert')\n",
    "collection.insert_many(data)\n",
    "print('done')"
   ]
  },
  {
   "cell_type": "markdown",
   "metadata": {},
   "source": [
    "# Lecture dans la base"
   ]
  },
  {
   "cell_type": "code",
   "execution_count": 28,
   "metadata": {},
   "outputs": [
    {
     "name": "stdout",
     "output_type": "stream",
     "text": [
      "\n",
      "done\n"
     ]
    }
   ],
   "source": [
    "import pandas as pd\n",
    "cursor = collection.find()\n",
    "entries = list(cursor)\n",
    "\n",
    "#entries[:]\n",
    "\n",
    "df = pd.DataFrame(entries)\n",
    "df.head()\n",
    "print('\\ndone')"
   ]
  },
  {
   "cell_type": "code",
   "execution_count": null,
   "metadata": {},
   "outputs": [],
   "source": []
  }
 ],
 "metadata": {
  "kernelspec": {
   "display_name": "Python 3",
   "language": "python",
   "name": "python3"
  },
  "language_info": {
   "codemirror_mode": {
    "name": "ipython",
    "version": 3
   },
   "file_extension": ".py",
   "mimetype": "text/x-python",
   "name": "python",
   "nbconvert_exporter": "python",
   "pygments_lexer": "ipython3",
   "version": "3.7.6"
  }
 },
 "nbformat": 4,
 "nbformat_minor": 4
}
