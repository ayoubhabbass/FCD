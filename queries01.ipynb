{
 "cells": [
  {
   "cell_type": "markdown",
   "metadata": {},
   "source": [
    "# Connection à la base de données 'fcd'"
   ]
  },
  {
   "cell_type": "code",
   "execution_count": 10,
   "metadata": {},
   "outputs": [
    {
     "name": "stdout",
     "output_type": "stream",
     "text": [
      "done\n"
     ]
    }
   ],
   "source": [
    "import pandas as pd\n",
    "import pymongo\n",
    "\n",
    "client = pymongo.MongoClient('localhost')\n",
    "collection = client.fcd.assets\n",
    "\n",
    "print('done')"
   ]
  },
  {
   "cell_type": "markdown",
   "metadata": {},
   "source": [
    "# Lecture dans la base"
   ]
  },
  {
   "cell_type": "code",
   "execution_count": 11,
   "metadata": {},
   "outputs": [
    {
     "data": {
      "text/html": [
       "<div>\n",
       "<style scoped>\n",
       "    .dataframe tbody tr th:only-of-type {\n",
       "        vertical-align: middle;\n",
       "    }\n",
       "\n",
       "    .dataframe tbody tr th {\n",
       "        vertical-align: top;\n",
       "    }\n",
       "\n",
       "    .dataframe thead th {\n",
       "        text-align: right;\n",
       "    }\n",
       "</style>\n",
       "<table border=\"1\" class=\"dataframe\">\n",
       "  <thead>\n",
       "    <tr style=\"text-align: right;\">\n",
       "      <th></th>\n",
       "      <th>_id</th>\n",
       "      <th>asset_id</th>\n",
       "      <th>recorded_at</th>\n",
       "      <th>location</th>\n",
       "    </tr>\n",
       "  </thead>\n",
       "  <tbody>\n",
       "    <tr>\n",
       "      <th>0</th>\n",
       "      <td>5f16a5bd9c984c3e2ad2fc23</td>\n",
       "      <td>14429000032073</td>\n",
       "      <td>1.583104e+09</td>\n",
       "      <td>{'geo': {'coordinates': [-114.028, 50.9551], '...</td>\n",
       "    </tr>\n",
       "    <tr>\n",
       "      <th>1</th>\n",
       "      <td>5f16a5bd9c984c3e2ad2fc24</td>\n",
       "      <td>14429000032073</td>\n",
       "      <td>1.583104e+09</td>\n",
       "      <td>{'geo': {'coordinates': [-114.028, 50.9554], '...</td>\n",
       "    </tr>\n",
       "    <tr>\n",
       "      <th>2</th>\n",
       "      <td>5f16a5bd9c984c3e2ad2fc25</td>\n",
       "      <td>14429000032073</td>\n",
       "      <td>1.583104e+09</td>\n",
       "      <td>{'geo': {'coordinates': [-114.028, 50.9558], '...</td>\n",
       "    </tr>\n",
       "    <tr>\n",
       "      <th>3</th>\n",
       "      <td>5f16a5bd9c984c3e2ad2fc26</td>\n",
       "      <td>14429000032073</td>\n",
       "      <td>1.583104e+09</td>\n",
       "      <td>{'geo': {'coordinates': [-114.026, 50.9554], '...</td>\n",
       "    </tr>\n",
       "    <tr>\n",
       "      <th>4</th>\n",
       "      <td>5f16a5bd9c984c3e2ad2fc27</td>\n",
       "      <td>14429000032073</td>\n",
       "      <td>1.583104e+09</td>\n",
       "      <td>{'geo': {'coordinates': [-114.026, 50.9544], '...</td>\n",
       "    </tr>\n",
       "  </tbody>\n",
       "</table>\n",
       "</div>"
      ],
      "text/plain": [
       "                        _id        asset_id   recorded_at  \\\n",
       "0  5f16a5bd9c984c3e2ad2fc23  14429000032073  1.583104e+09   \n",
       "1  5f16a5bd9c984c3e2ad2fc24  14429000032073  1.583104e+09   \n",
       "2  5f16a5bd9c984c3e2ad2fc25  14429000032073  1.583104e+09   \n",
       "3  5f16a5bd9c984c3e2ad2fc26  14429000032073  1.583104e+09   \n",
       "4  5f16a5bd9c984c3e2ad2fc27  14429000032073  1.583104e+09   \n",
       "\n",
       "                                            location  \n",
       "0  {'geo': {'coordinates': [-114.028, 50.9551], '...  \n",
       "1  {'geo': {'coordinates': [-114.028, 50.9554], '...  \n",
       "2  {'geo': {'coordinates': [-114.028, 50.9558], '...  \n",
       "3  {'geo': {'coordinates': [-114.026, 50.9554], '...  \n",
       "4  {'geo': {'coordinates': [-114.026, 50.9544], '...  "
      ]
     },
     "execution_count": 11,
     "metadata": {},
     "output_type": "execute_result"
    }
   ],
   "source": [
    "cursor = collection.find()\n",
    "entries = list(cursor)\n",
    "\n",
    "#entries[:]\n",
    "\n",
    "df = pd.DataFrame(entries)\n",
    "df.head()"
   ]
  },
  {
   "cell_type": "markdown",
   "metadata": {},
   "source": [
    "# Entrée 1 : géo"
   ]
  },
  {
   "cell_type": "code",
   "execution_count": 38,
   "metadata": {},
   "outputs": [
    {
     "name": "stdout",
     "output_type": "stream",
     "text": [
      "longitude -> -114.028\n",
      "latitude -> 50.955\n",
      "rayon (km) -> 5\n"
     ]
    }
   ],
   "source": [
    "lon = float(input(\"longitude -> \"))\n",
    "lat = float(input(\"latitude -> \"))\n",
    "rad = float(input(\"rayon (km) -> \"))"
   ]
  },
  {
   "cell_type": "markdown",
   "metadata": {},
   "source": [
    "# Entrée 2 : date"
   ]
  },
  {
   "cell_type": "code",
   "execution_count": 41,
   "metadata": {},
   "outputs": [
    {
     "name": "stdout",
     "output_type": "stream",
     "text": [
      "Annee -> 2020\n",
      "Mois -> 3\n",
      "Jour -> 5\n",
      "Heure -> 14\n",
      "Minutes -> 16\n",
      "Secondes -> 2\n"
     ]
    }
   ],
   "source": [
    "from datetime import timedelta\n",
    "from datetime import datetime\n",
    "\n",
    "year = int(input(\"Annee -> \"))\n",
    "month = int(input(\"Mois -> \"))\n",
    "day = int(input(\"Jour -> \"))\n",
    "hour = int(input(\"Heure -> \"))\n",
    "minutes = int(input(\"Minutes -> \"))\n",
    "seconds = int(input(\"Secondes -> \"))\n",
    "date = datetime(year, month, day, hour, minutes, seconds)"
   ]
  },
  {
   "cell_type": "markdown",
   "metadata": {},
   "source": [
    "# Entrée 3 : période"
   ]
  },
  {
   "cell_type": "code",
   "execution_count": 46,
   "metadata": {},
   "outputs": [
    {
     "name": "stdout",
     "output_type": "stream",
     "text": [
      "Période (minutes) -> 3\n"
     ]
    }
   ],
   "source": [
    "T = int(input(\"Période (minutes) -> \"))\n",
    "delta = timedelta(minutes = T)\n",
    "\n",
    "datemin = date - delta\n",
    "datemax = date + delta\n",
    "\n",
    "datemin = datetime.timestamp(datemin)\n",
    "datemax = datetime.timestamp(datemax)"
   ]
  },
  {
   "cell_type": "markdown",
   "metadata": {},
   "source": [
    "# QUERY 1 "
   ]
  },
  {
   "cell_type": "code",
   "execution_count": 98,
   "metadata": {},
   "outputs": [
    {
     "name": "stdout",
     "output_type": "stream",
     "text": [
      "density : 3\n",
      "done\n"
     ]
    }
   ],
   "source": [
    "import pprint\n",
    "\n",
    "\n",
    "# QUERY 1\n",
    "# Calculer la densité [nombre de points] sur une Zone géographique Z et une période T \n",
    "\n",
    "# points dans une zone Z\n",
    "query01 = {\n",
    "    \"location.geo\": {\n",
    "        \"$nearSphere\": {\n",
    "            \"$geometry\": {\n",
    "                \"type\": \"Point\",\n",
    "                \"coordinates\": [ lon, lat]\n",
    "            },\n",
    "            \"$minDistance\": 0,\n",
    "            \"$maxDistance\": rad*1000 # mètres\n",
    "        }\n",
    "    }\n",
    "}\n",
    "\n",
    "# points à une période T\n",
    "query02 = {'$and': [{'recorded_at': {\"$gt\": datemin}}, {'recorded_at': {\"$lt\": datemax}}]}\n",
    "\n",
    "\n",
    "# requête finale\n",
    "query = {'$and': [query01, query02]}\n",
    "    \n",
    "    \n",
    "result = list(collection.find(query).distinct(\"asset_id\"))\n",
    "    \n",
    "print (\"density :\", len(result))\n",
    "\n",
    "print('done')"
   ]
  }
 ],
 "metadata": {
  "kernelspec": {
   "display_name": "Python 3",
   "language": "python",
   "name": "python3"
  },
  "language_info": {
   "codemirror_mode": {
    "name": "ipython",
    "version": 3
   },
   "file_extension": ".py",
   "mimetype": "text/x-python",
   "name": "python",
   "nbconvert_exporter": "python",
   "pygments_lexer": "ipython3",
   "version": "3.7.6"
  }
 },
 "nbformat": 4,
 "nbformat_minor": 4
}
